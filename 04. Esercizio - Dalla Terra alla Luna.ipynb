{
 "cells": [
  {
   "cell_type": "code",
   "execution_count": 1,
   "metadata": {},
   "outputs": [],
   "source": [
    "%load_ext autoreload\n",
    "%autoreload 2"
   ]
  },
  {
   "cell_type": "markdown",
   "metadata": {
    "slideshow": {
     "slide_type": "subslide"
    }
   },
   "source": [
    "## Esercizio: Dalla Terra alla Luna\n",
    "\n",
    "**Nel libro di Jule Verne \"Dalle Terra alla Luna\"...**\n",
    "\n",
    "<center>\n",
    "<img src=\"assets/moonshot.jpg\" width=70%/>\n",
    "</center>\n",
    "\n",
    "* ...Il veicolo con i protagonisti viene \"sparato\" verso la Luna"
   ]
  },
  {
   "cell_type": "markdown",
   "metadata": {
    "slideshow": {
     "slide_type": "subslide"
    }
   },
   "source": [
    "## Esercizio: Dalla Terra alla Luna\n",
    "\n",
    "**Durante il viaggio, la navicella è soggetta a forze gravitazionali**\n",
    "\n",
    "Esse sono regolate dalla legge di gravitazione di Newton:\n",
    "\n",
    "$$\n",
    "F_{12} = -G \\frac{m_1 m_2}{r_{12} \\|r_{12}\\|}\n",
    "$$\n",
    "\n",
    "* $F_{12}$ è la forza esercitata dal corpo 2 sul corpo 1\n",
    "* $G$ è la costante di gravitazione\n",
    "* $m_1$ ed $m_2$ sono le masse del corpo 1 e 2\n",
    "* $r_{12}$ è la distanza dal corpo 1 al corpo 2, i.e.\n",
    "$$\n",
    "r_{12} = x_1 - x_2\n",
    "$$\n",
    "* $x_1$ e $x_2$ sono le posizioni (scalari) di 1 e 2 (la forma vettoriale è diversa)"
   ]
  },
  {
   "cell_type": "markdown",
   "metadata": {
    "slideshow": {
     "slide_type": "subslide"
    }
   },
   "source": [
    "## Esercizio: Dalla Terra alla Luna\n",
    "\n",
    "**Si desidera modellare il moto della navicella**\n",
    "\n",
    "* Assumiamo per semplicità che la Terra e la Luna siano in fisse\n",
    "* Quindi la nave viaggerà lungo una traiettoria verticale\n",
    "* Il moto sarà regolato dell'equazione differenziale:\n",
    "\n",
    "$$\n",
    "\\ddot{x} = \\frac{1}{m_s} (F_{se} + F_{sm})\n",
    "$$\n",
    "\n",
    "* $m_s$ è la massa della navicella\n",
    "* $F_{se}$ è l'attrazione esercitata dalla Terra sulla navicella\n",
    "* $F_{sm}$ è l'attrazione esercitata dalla Luna sulla navicella"
   ]
  },
  {
   "cell_type": "markdown",
   "metadata": {
    "slideshow": {
     "slide_type": "subslide"
    }
   },
   "source": [
    "## Esercizio: Dalla Terra alla Luna\n",
    "\n",
    "**Nel complesso, il sistema è descritto dell'ODE**\n",
    "\n",
    "$$\n",
    "\\left(\\begin{array}{c}\n",
    "\\dot{x} \\\\\n",
    "\\dot{v}\n",
    "\\end{array}\\right)\n",
    "=\n",
    "\\left(\\begin{array}{c}\n",
    "v \\\\\n",
    "\\frac{1}{m_s} (F_{se} + F_{sm})\n",
    "\\end{array}\\right)\n",
    "$$\n",
    "\n",
    "Con:\n",
    "\n",
    "$$\\begin{align}\n",
    "& F_{se} = - G \\frac{m_s m_e}{x |x|} \\\\\n",
    "& F_{sm} = - G \\frac{m_s m_m}{(x-D) |x-D|}\n",
    "\\end{align}$$\n",
    "\n",
    "Dove $D$ è la distanza tra il centro della Terra e della Luna"
   ]
  },
  {
   "cell_type": "markdown",
   "metadata": {
    "slideshow": {
     "slide_type": "subslide"
    }
   },
   "source": [
    "## Esercizio: Dalla Terra alla Luna\n",
    "\n",
    "**Prima di tutto, procediamo a caricare i dati del problema**\n",
    "\n",
    "Potete farlo usando la cella seguente:"
   ]
  },
  {
   "cell_type": "code",
   "execution_count": 2,
   "metadata": {},
   "outputs": [],
   "source": [
    "G = 6.67408e-11 # Costante di gravitazione universale\n",
    "ME = 5.972e24 # Massa della Terra\n",
    "MM = 7.34767309e22 # Massa della Luna\n",
    "MS = 800 # Massa del \"satellite\"\n",
    "D = 384400e3 # Distanza Terra-Luna\n",
    "\n",
    "rE = 6371e3 # Raggio della Terra\n",
    "rM = 1737e3 # Raggio della Luna\n",
    "v0a = 11000\n",
    "v0b = 11100"
   ]
  },
  {
   "cell_type": "markdown",
   "metadata": {
    "slideshow": {
     "slide_type": "subslide"
    }
   },
   "source": [
    "## Esercizio: Dalla Terra alla Luna\n",
    "\n",
    "**Nel modulo `sol.moonshot` si definisca una classe:**\n",
    "\n",
    "```python\n",
    "class Dstate:\n",
    "    def __init__(self, G, ME, MM, MS, D):\n",
    "        ...\n",
    "\n",
    "    def __call__(self, X, t):\n",
    "        ...\n",
    "```\n",
    "\n",
    "...Che rappresenti la funzione che definisce l'ODE\n",
    "\n",
    "* Il metodo `__call__` deve calcolare le derivate\n",
    "* ...E restiuirle sotto forma di `numpy.array`\n",
    "\n",
    "Nella cella seguente:\n",
    "\n",
    "* Si utilizzi la classe per calcolare il gradiente\n",
    "* ...Per lo stato $(r_E, v_{0,a}) = (6371e3, 11000)$ ed il tempo iniziale $t_0 = 0$"
   ]
  },
  {
   "cell_type": "code",
   "execution_count": 6,
   "metadata": {},
   "outputs": [],
   "source": [
    "import numpy as np\n",
    "\n",
    "X0 = np.array([rE, v0a])\n",
    "t0 = 0"
   ]
  },
  {
   "cell_type": "markdown",
   "metadata": {
    "slideshow": {
     "slide_type": "subslide"
    }
   },
   "source": [
    "## Esercizio: Dalla Terra alla Luna\n",
    "\n",
    "**Nel modulo `sol.moonshot` si definisca una funzione:**\n",
    "\n",
    "```python\n",
    "def simulate(f, X0, t)\n",
    "```\n",
    "\n",
    "...Che si simuli il comportamento della navicella:\n",
    "\n",
    "* La funzione deve restituire una tupla contenente (nell'ordine):\n",
    "  - La matrice con gli stati visitati\n",
    "  - Il vettore con i valori del tempo\n",
    "* La funzione deve anche disegnare un grafico utilizzando `base.util.plot_state_evolution`\n",
    "\n",
    "**Si utilizzi la funzione per determinare il comportamento della navicella**\n",
    "\n",
    "* Per un periodo di 3.5 giorni\n",
    "* ...A partire dallo stato iniziale $(r_E, v_{0,a}) = (6371e3, 11000)$"
   ]
  },
  {
   "cell_type": "code",
   "execution_count": 8,
   "metadata": {},
   "outputs": [],
   "source": [
    "X0 = np.array([rE, v0a])\n",
    "t = np.linspace(0, 3600 * 24 * 3.5, 3600 * 24 * 4)"
   ]
  },
  {
   "cell_type": "markdown",
   "metadata": {
    "slideshow": {
     "slide_type": "subslide"
    }
   },
   "source": [
    "## Esercizio: Dalla Terra alla Luna\n",
    "\n",
    "**Si utilizzi di nuovo `simulate` per simulare il comportamento della navicella**\n",
    "\n",
    "* Per un periodo di 3.03 giorni\n",
    "* ...A partire dallo stato iniziale $(r_E, v_{0,b}) = (6371e3, 11100)$"
   ]
  },
  {
   "cell_type": "code",
   "execution_count": 9,
   "metadata": {},
   "outputs": [],
   "source": [
    "X0 = np.array([rE, v0b])\n",
    "t2 = np.linspace(0, 3600 * 24 * 3.03, 3600 * 24 * 4)"
   ]
  },
  {
   "cell_type": "markdown",
   "metadata": {
    "slideshow": {
     "slide_type": "subslide"
    }
   },
   "source": [
    "## Esercizio: Dalla Terra alla Luna\n",
    "\n",
    "**Nel modulo `sol.moonshot` si definisca una funzione:**\n",
    "\n",
    "```python\n",
    "def goal_reached(X, D, rM)\n",
    "```\n",
    "\n",
    "* Che restituisca:\n",
    "  - Il valore `True` se la quota massima raggiunta è superiore a $D - r_{M}$\n",
    "  - Il valore `False` altrimenti\n",
    "\n",
    "Si stampino a video il risultato per le due simulazione precedenti"
   ]
  },
  {
   "cell_type": "code",
   "execution_count": null,
   "metadata": {},
   "outputs": [],
   "source": []
  }
 ],
 "metadata": {
  "celltoolbar": "Slideshow",
  "kernelspec": {
   "display_name": "Python 3 (ipykernel)",
   "language": "python",
   "name": "python3"
  },
  "language_info": {
   "codemirror_mode": {
    "name": "ipython",
    "version": 3
   },
   "file_extension": ".py",
   "mimetype": "text/x-python",
   "name": "python",
   "nbconvert_exporter": "python",
   "pygments_lexer": "ipython3",
   "version": "3.11.11"
  },
  "rise": {
   "center": false,
   "enable_chalkboard": true,
   "transition": "fade"
  }
 },
 "nbformat": 4,
 "nbformat_minor": 4
}
