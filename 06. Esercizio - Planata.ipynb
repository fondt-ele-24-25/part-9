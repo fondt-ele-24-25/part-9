{
 "cells": [
  {
   "cell_type": "code",
   "execution_count": 1,
   "metadata": {},
   "outputs": [],
   "source": [
    "%load_ext autoreload\n",
    "%autoreload 2"
   ]
  },
  {
   "cell_type": "markdown",
   "metadata": {
    "slideshow": {
     "slide_type": "subslide"
    }
   },
   "source": [
    "## Esercizio: Planata\n",
    "\n",
    "**Un aeroplanino di carta viene lanciato in orizzontale**\n",
    "\n",
    "<center>\n",
    "<img src=\"assets/paper-planes.jpg\" width=65%/>\n",
    "</center>"
   ]
  },
  {
   "cell_type": "markdown",
   "metadata": {
    "slideshow": {
     "slide_type": "subslide"
    }
   },
   "source": [
    "## Esercizio: Planata\n",
    "\n",
    "**Consideriamo solo la componente verticale del moto**\n",
    "\n",
    "Le due forze in gioco sono quelle di _gravità_:\n",
    "\n",
    "$$F_g = -g m$$\n",
    "\n",
    "* Dove $g$ è l'accelerazione di gravità e $m$ la massa\n",
    "\n",
    "...E la forza di _trascinamento_ dell'aria:\n",
    "\n",
    "$$F_t = -\\frac{1}{2} \\rho A C_D v |v|$$\n",
    "\n",
    "* Dove $\\rho$ è la densità dell'aria\n",
    "* ...$A$ la superficie dell'aereoplano\n",
    "* ...$C_D$ il coefficiente di trascinamento\n",
    "* ...E $v$ è la componente verticale della velocità"
   ]
  },
  {
   "cell_type": "markdown",
   "metadata": {
    "slideshow": {
     "slide_type": "subslide"
    }
   },
   "source": [
    "## Esercizio: Planata\n",
    "\n",
    "**Complessivamente il modo è descritto dall'equazione differenziale:**\n",
    "\n",
    "$$\n",
    "\\left(\\begin{array}{c}\n",
    "\\dot{x} \\\\\n",
    "\\dot{v}\n",
    "\\end{array}\\right)\n",
    "=\n",
    "\\left(\\begin{array}{c}\n",
    "v \\\\\n",
    "\\frac{1}{m} (F_g + F_t)\n",
    "\\end{array}\\right)\n",
    "$$\n"
   ]
  },
  {
   "cell_type": "markdown",
   "metadata": {
    "slideshow": {
     "slide_type": "subslide"
    }
   },
   "source": [
    "## Esercizio: Planata\n",
    "\n",
    "**Prima di tutto, procediamo a caricare i dati del problema**\n",
    "\n",
    "Potete farlo usando la cella seguente:"
   ]
  },
  {
   "cell_type": "code",
   "execution_count": 2,
   "metadata": {},
   "outputs": [],
   "source": [
    "# Dati del problema\n",
    "g = 9.80665\n",
    "rho = 1.25 # Densita' dell'aria\n",
    "A = 0.297 * 0.105 # Superficie esposta\n",
    "Cd = 0.95 # Coefficiente di trascinamento\n",
    "M = 0.005 # Massa\n",
    "\n",
    "# Quota iniziale\n",
    "y0 = 2"
   ]
  },
  {
   "cell_type": "markdown",
   "metadata": {
    "slideshow": {
     "slide_type": "subslide"
    }
   },
   "source": [
    "## Esercizio: Planata\n",
    "\n",
    "**Nel modulo `sol.gliding` si definisca una classe:**\n",
    "\n",
    "```python\n",
    "class Dstate:\n",
    "    def __init__(self, g, rho, A, Cd, M):\n",
    "        ...\n",
    "\n",
    "    def __call__(self, X, t):\n",
    "        ...\n",
    "```\n",
    "\n",
    "...Che rappresenti la funzione che definisce l'ODE\n",
    "\n",
    "* Il metodo `__call__` deve calcolare le derivate\n",
    "* ...E restiuirle sotto forma di `numpy.array`\n",
    "\n",
    "Nella cella seguente:\n",
    "\n",
    "* Si utilizzi la classe per calcolare il gradiente\n",
    "* ...Per lo stato fornito nella cella ed il tempo $t_0 = 0$"
   ]
  },
  {
   "cell_type": "code",
   "execution_count": 3,
   "metadata": {},
   "outputs": [],
   "source": [
    "import numpy as np\n",
    "\n",
    "X0 = np.array([y0, 0])\n",
    "t0 = 0"
   ]
  },
  {
   "cell_type": "markdown",
   "metadata": {
    "slideshow": {
     "slide_type": "subslide"
    }
   },
   "source": [
    "## Esercizio: Planata\n",
    "\n",
    "**Nel modulo `sol.gliding` si definisca una funzione:**\n",
    "\n",
    "```python\n",
    "def simulate(f, X0, t)\n",
    "```\n",
    "\n",
    "...Che si simuli il comportamento dell'aeroplanino:\n",
    "\n",
    "* La funzione deve restituire una tupla contenente (nell'ordine):\n",
    "  - La matrice con gli stati visitati\n",
    "  - Il vettore con i valori del tempo\n",
    "* La funzione deve anche disegnare un grafico utilizzando `base.util.plot_state_evolution`\n",
    "\n",
    "**Si utilizzi la funzione per determinare il comportamento dell'aeroplanino**\n",
    "\n",
    "* Per un periodo di 1.5 secondi\n",
    "* ...A partire dallo stato iniziale indicato nella cella"
   ]
  },
  {
   "cell_type": "code",
   "execution_count": 4,
   "metadata": {},
   "outputs": [],
   "source": [
    "X0 = np.array([y0, 0])\n",
    "t = np.linspace(0, 1.5, 100)"
   ]
  },
  {
   "cell_type": "markdown",
   "metadata": {
    "slideshow": {
     "slide_type": "subslide"
    }
   },
   "source": [
    "## Esercizio: Planata\n",
    "\n",
    "**Nel modulo `sol.gliding` si definisca una funzione:**\n",
    "\n",
    "```python\n",
    "def y_at_1sec(X, t)\n",
    "```\n",
    "\n",
    "* Che restituisca il valore della quota dopo 1 secondo\n",
    "\n",
    "Si stampi a video il risultato"
   ]
  },
  {
   "cell_type": "code",
   "execution_count": null,
   "metadata": {},
   "outputs": [],
   "source": []
  }
 ],
 "metadata": {
  "celltoolbar": "Slideshow",
  "kernelspec": {
   "display_name": "Python 3 (ipykernel)",
   "language": "python",
   "name": "python3"
  },
  "language_info": {
   "codemirror_mode": {
    "name": "ipython",
    "version": 3
   },
   "file_extension": ".py",
   "mimetype": "text/x-python",
   "name": "python",
   "nbconvert_exporter": "python",
   "pygments_lexer": "ipython3",
   "version": "3.11.11"
  },
  "rise": {
   "center": false,
   "enable_chalkboard": true,
   "transition": "fade"
  }
 },
 "nbformat": 4,
 "nbformat_minor": 4
}
