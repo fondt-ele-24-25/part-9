{
 "cells": [
  {
   "cell_type": "code",
   "execution_count": 1,
   "metadata": {},
   "outputs": [],
   "source": [
    "%load_ext autoreload\n",
    "%autoreload 2"
   ]
  },
  {
   "cell_type": "markdown",
   "metadata": {
    "slideshow": {
     "slide_type": "subslide"
    }
   },
   "source": [
    "## Esercizio: BMW-i8\n",
    "\n",
    "**Una BMW i8 accelera a tavoletta su un rettilineo**\n",
    "\n",
    "<center>\n",
    "<img src=\"assets/bmw-i8.png\" width=80%/>\n",
    "</center>"
   ]
  },
  {
   "cell_type": "markdown",
   "metadata": {
    "slideshow": {
     "slide_type": "subslide"
    }
   },
   "source": [
    "## Esercizio: BMW-i8\n",
    "\n",
    "**Una BMW i8 accelera a tavoletta su un rettilineo**\n",
    "\n",
    "Supponiamo che il motore eroghi una forza costante $F$\n",
    "\n",
    "* L'auto ha un motore elettrico, così l'assunzione non è così irrealistica\n",
    "\n",
    "Si oppone alla direzione del moto la forza di trascinamento:\n",
    "\n",
    "$$\n",
    "F_t = -\\frac{1}{2} \\rho C_D A v |v|\n",
    "$$\n",
    "\n",
    "* $\\rho$ è la densità dell'aria, $v$ è la velocità\n",
    "* $A$ è la superficie della sezione dell'auto\n",
    "* $C_D$ è un coefficiente di trascinamento"
   ]
  },
  {
   "cell_type": "markdown",
   "metadata": {
    "slideshow": {
     "slide_type": "subslide"
    }
   },
   "source": [
    "## Esercizio: BMW-i8\n",
    "\n",
    "**Quindi il sistema è definito dall'ODE:**\n",
    "\n",
    "$$\n",
    "\\ddot{x} = \\frac{1}{m} (F + F_t)\n",
    "$$\n",
    "\n",
    "Che può essere riscritta come:\n",
    "\n",
    "$$\n",
    "\\left(\\begin{array}{c}\n",
    "\\dot{x} \\\\\n",
    "\\dot{v}\n",
    "\\end{array}\\right)\n",
    "=\n",
    "\\left(\\begin{array}{c}\n",
    "v \\\\\n",
    "\\frac{1}{m} (F + F_t)\n",
    "\\end{array}\\right)\n",
    "$$\n",
    "\n",
    "* Dove $m$ è la massa dell'auto"
   ]
  },
  {
   "cell_type": "markdown",
   "metadata": {
    "slideshow": {
     "slide_type": "subslide"
    }
   },
   "source": [
    "## Esercizio: BMW-i8\n",
    "\n",
    "**Prima di tutto, procediamo a caricare i dati del problema**\n",
    "\n",
    "Potete farlo usando la cella seguente:"
   ]
  },
  {
   "cell_type": "code",
   "execution_count": 2,
   "metadata": {},
   "outputs": [],
   "source": [
    "rho = 1.25 # Densita' dell'aria\n",
    "A = 2.5 * 1.2 # Superficie della seziojne\n",
    "Cd = 0.82 # Coefficiente di trascinamento\n",
    "m = 1539 # Massa dell'auto\n",
    "F = 10000 # Forza di accelerazione"
   ]
  },
  {
   "cell_type": "markdown",
   "metadata": {
    "slideshow": {
     "slide_type": "subslide"
    }
   },
   "source": [
    "## Esercizio: BMW-i8\n",
    "\n",
    "**Nel modulo `sol.bmw` si definisca una classe:**\n",
    "\n",
    "```python\n",
    "class BMWDstate:\n",
    "    def __init__(self, rho, A, Cd, m, F):\n",
    "        ...\n",
    "\n",
    "    def __call__(self, X, t):\n",
    "        ...\n",
    "```\n",
    "\n",
    "...Che rappresenti la funzione che definisce l'ODE\n",
    "\n",
    "* Il metodo `__call__` deve calcolare le derivate\n",
    "* ...E restiuirle sotto forma di `numpy.array`\n",
    "\n",
    "Nella cella seguente:\n",
    "\n",
    "* Si utilizzi la classe per calcolare il gradiente\n",
    "* ...Per lo stato iniziale $(x_0, v_0) = (0, 0)$ ed il tempo iniziale $t_0 = 0$"
   ]
  },
  {
   "cell_type": "code",
   "execution_count": 3,
   "metadata": {},
   "outputs": [],
   "source": [
    "import numpy as np\n",
    "X0 = np.array([0, 0])\n",
    "t0 = 0"
   ]
  },
  {
   "cell_type": "markdown",
   "metadata": {
    "slideshow": {
     "slide_type": "subslide"
    }
   },
   "source": [
    "## Esercizio: BMW-i8\n",
    "\n",
    "**Nel modulo `sol.bmw` si definisca una funzione:**\n",
    "\n",
    "```python\n",
    "def simulate(f, X0, t)\n",
    "```\n",
    "\n",
    "...Che si simuli il comportamento dell'automobile\n",
    "\n",
    "* La funzione deve restituire una tupla contenente (nell'ordine):\n",
    "  - La matrice con gli stati visitati\n",
    "  - Il vettore con i valori del tempo\n",
    "* La funzione deve anche disegnare un grafico utilizzando `base.util.plot_state_evolution`\n",
    "\n",
    "**Si utilizzi la funzione per determinare il comportamento dell'automobile**\n",
    "\n",
    "* Per un periodo di 60''\n",
    "* ...A partire dallo stato iniziale $(x, v) = (0, 0)$"
   ]
  },
  {
   "cell_type": "code",
   "execution_count": 4,
   "metadata": {
    "scrolled": false
   },
   "outputs": [],
   "source": [
    "X0 = np.array([0, 0])\n",
    "t = np.linspace(0, 60, 60 * 10)"
   ]
  },
  {
   "cell_type": "markdown",
   "metadata": {
    "slideshow": {
     "slide_type": "subslide"
    }
   },
   "source": [
    "## Esercizio: BMW-i8\n",
    "\n",
    "**Nel modulo `sol.bmw` si definisca una funzione:**\n",
    "\n",
    "```python\n",
    "def x_in_3s(X, t)\n",
    "```\n",
    "\n",
    "* Che restituisca la strada percorsa in 3 secondi\n",
    "\n",
    "Si stampino a video il valore"
   ]
  },
  {
   "cell_type": "code",
   "execution_count": null,
   "metadata": {},
   "outputs": [],
   "source": []
  },
  {
   "cell_type": "markdown",
   "metadata": {
    "slideshow": {
     "slide_type": "subslide"
    }
   },
   "source": [
    "## Esercizio: BMW-i8\n",
    "\n",
    "**Nel modulo `sol.bmw` si definisca una funzione:**\n",
    "\n",
    "```python\n",
    "def time_to_100kph(X, t)\n",
    "```\n",
    "\n",
    "* Che restituisca il tempo in corrispondenza del quale\n",
    "* ...L'automobile ha raggiunto la velocità di 27.8 m/s\n",
    "\n",
    "Si stampino a video il valore"
   ]
  },
  {
   "cell_type": "code",
   "execution_count": null,
   "metadata": {},
   "outputs": [],
   "source": []
  },
  {
   "cell_type": "markdown",
   "metadata": {
    "slideshow": {
     "slide_type": "subslide"
    }
   },
   "source": [
    "## Esercizio: BMW-i8\n",
    "\n",
    "**Nel modulo `sol.bmw` si definisca una funzione:**\n",
    "\n",
    "```python\n",
    "def max_speed(X, t)\n",
    "```\n",
    "\n",
    "* Che restituisca la massima velocità raggiunta nella simulazione\n",
    "\n",
    "Si stampino a video il valore"
   ]
  },
  {
   "cell_type": "code",
   "execution_count": null,
   "metadata": {},
   "outputs": [],
   "source": []
  }
 ],
 "metadata": {
  "celltoolbar": "Slideshow",
  "kernelspec": {
   "display_name": "Python 3 (ipykernel)",
   "language": "python",
   "name": "python3"
  },
  "language_info": {
   "codemirror_mode": {
    "name": "ipython",
    "version": 3
   },
   "file_extension": ".py",
   "mimetype": "text/x-python",
   "name": "python",
   "nbconvert_exporter": "python",
   "pygments_lexer": "ipython3",
   "version": "3.11.11"
  },
  "rise": {
   "center": false,
   "enable_chalkboard": true,
   "transition": "fade"
  }
 },
 "nbformat": 4,
 "nbformat_minor": 4
}
