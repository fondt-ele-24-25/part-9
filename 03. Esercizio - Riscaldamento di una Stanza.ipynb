{
 "cells": [
  {
   "cell_type": "code",
   "execution_count": 1,
   "metadata": {},
   "outputs": [],
   "source": [
    "%load_ext autoreload\n",
    "%autoreload 2"
   ]
  },
  {
   "cell_type": "markdown",
   "metadata": {
    "slideshow": {
     "slide_type": "subslide"
    }
   },
   "source": [
    "## Esercizio: Riscaldamento di una Stanza\n",
    "\n",
    "**Vogliamo riscaldare una stanza con un convettore**\n",
    "\n",
    "* Il convettore riscalda l'aria, che sua volta riscalda i muri\n",
    "* ...Che disperdono parte del calore verso l'esterno\n",
    "\n",
    "Sappiamo che:\n",
    "\n",
    "* La temperature del convettore e dell'esterno sono costanti\n",
    "* L'aria della stanza ed i muri hanno capacità termiche non trascurabili\n",
    "\n",
    "**Possiamo modellare il sistema utilizzando un _circuito RC equivalente_:**\n",
    "\n",
    "<center>\n",
    "<img src=\"assets/heating3.png\" width=70%/>\n",
    "</center>"
   ]
  },
  {
   "cell_type": "markdown",
   "metadata": {
    "slideshow": {
     "slide_type": "subslide"
    }
   },
   "source": [
    "## Esercizio: Riscaldamento di una Stanza\n",
    "\n",
    "**La modellazione a circuiti RC equivalenti**\n",
    "\n",
    "...E un \"trucco\" per rappresentare sistemi fisici in modo uniforme\n",
    "\n",
    "<center>\n",
    "<img src=\"assets/heating3.png\" width=70%/>\n",
    "</center>\n",
    "\n",
    "* Si basa sul fatto che molti fenomeni fisici, pur essendo molto diversi\n",
    "* ...Sono descritti più o meno dalle stesse formule\n",
    "* ...E possono essere ricondotti ad un sistema di riferimento\n",
    "\n",
    "**Tipicamente, come sistema di riferimento si sceglie un circuito elettrico**\n",
    "\n",
    "Questa rappresentazione vi diventerà molto familiare l'anno prossimo!"
   ]
  },
  {
   "cell_type": "markdown",
   "metadata": {
    "slideshow": {
     "slide_type": "subslide"
    }
   },
   "source": [
    "## Esercizio: Riscaldamento di una Stanza\n",
    "\n",
    "**La modellazione a circuiti RC equivalenti**\n",
    "\n",
    "...E un \"trucco\" per rappresentare sistemi fisici in modo uniforme\n",
    "\n",
    "<center>\n",
    "<img src=\"assets/heating3.png\" width=70%/>\n",
    "</center>\n",
    "\n",
    "**I cerchi con +/-**\n",
    "\n",
    "...Rappresentano una _differenza di temperatura (tensione) costante_\n",
    "\n",
    "* Nel nostro caso abbimo $T_c$ (la temperatura del convettore)\n",
    "* ...E $T_o$ (la temperatura dell'ambiente esterno)\n",
    "\n",
    "**I valori $w_{ca}, w_{aw}, w_{wo}$**\n",
    "\n",
    "...Rappresentano _flussi di calore (corrente)_"
   ]
  },
  {
   "cell_type": "markdown",
   "metadata": {
    "slideshow": {
     "slide_type": "subslide"
    }
   },
   "source": [
    "## Esercizio: Riscaldamento di una Stanza\n",
    "\n",
    "**La modellazione a circuiti RC equivalenti**\n",
    "\n",
    "...E un \"trucco\" per rappresentare sistemi fisici in modo uniforme\n",
    "\n",
    "<center>\n",
    "<img src=\"assets/heating3.png\" width=70%/>\n",
    "</center>\n",
    "\n",
    "**I simboli a zig-zag**\n",
    "\n",
    "...Rappresentano una _resistenza termica (elettrica)_\n",
    "\n",
    "* Sono descritti da una equazione del tipo:\n",
    "$$\n",
    "T_0 - T_1 = R_{0,1} w_{0,1}\n",
    "$$"
   ]
  },
  {
   "cell_type": "markdown",
   "metadata": {
    "slideshow": {
     "slide_type": "subslide"
    }
   },
   "source": [
    "## Esercizio: Riscaldamento di una Stanza\n",
    "\n",
    "**La modellazione a circuiti RC equivalenti**\n",
    "\n",
    "...E un \"trucco\" per rappresentare sistemi fisici in modo uniforme\n",
    "\n",
    "<center>\n",
    "<img src=\"assets/heating3.png\" width=70%/>\n",
    "</center>\n",
    "\n",
    "**I simboli con due sbarre**\n",
    "\n",
    "...Rappresentano una _capacità termica (elettrica)_\n",
    "\n",
    "* Sono descritti da una equazione _differenziale_ del tipo:\n",
    "$$\n",
    "\\frac{dT}{dt} = \\frac{1}{C} w\n",
    "$$\n",
    "* Dove $w$ è il calore (corrente) netto in entrata"
   ]
  },
  {
   "cell_type": "markdown",
   "metadata": {
    "slideshow": {
     "slide_type": "subslide"
    }
   },
   "source": [
    "## Esercizio: Riscaldamento di una Stanza\n",
    "\n",
    "**Nel complesso, per il nostro circuito abbiamo:**\n",
    "\n",
    "$$\n",
    "\\left(\\begin{array}{c}\n",
    "\\dot{T_a} \\\\\n",
    "\\dot{T_w}\n",
    "\\end{array}\\right)\n",
    "=\n",
    "\\left(\\begin{array}{c}\n",
    "\\frac{1}{C_a} (w_{ca} - w_{aw}) \\\\\n",
    "\\frac{1}{C_w} (w_{aw} - w_{wo})\n",
    "\\end{array}\\right)\n",
    "$$\n",
    "\n",
    "Con:\n",
    "\n",
    "\n",
    "$$\\begin{align}\n",
    "& w_{ca} = \\frac{1}{R_{ca}} (T_c - T_a) \\\\\n",
    "& w_{aw} = \\frac{1}{R_{aw}} (T_a - T_w) \\\\\n",
    "& w_{wo} = \\frac{1}{R_{wo}} (T_w - T_o) \\\\\n",
    "\\end{align}$$"
   ]
  },
  {
   "cell_type": "markdown",
   "metadata": {
    "slideshow": {
     "slide_type": "subslide"
    }
   },
   "source": [
    "## Esercizio: Riscaldamento di una Stanza\n",
    "\n",
    "**Prima di tutto, procediamo a caricare i dati del problema**\n",
    "\n",
    "Potete farlo usando la cella seguente:"
   ]
  },
  {
   "cell_type": "code",
   "execution_count": 2,
   "metadata": {},
   "outputs": [],
   "source": [
    "# Un po' di dati intermedi\n",
    "g = 9.81\n",
    "vA = 62 # Volume dell'aria\n",
    "vW = 0.25 * 16 * 2.7 # Volume dei muri\n",
    "mA = 1.225 * vA / g # Massa dell'aria\n",
    "mW = 1050 * vW / g # Massa dei muri\n",
    "\n",
    "# I veri e propri dati del problema\n",
    "Ca = 1005 * mA # Capacita' termica dell'aria\n",
    "Cw = 1000 * mW # Capacita' termica dei muri\n",
    "Rca = 0.35 # Resisitivita' termica convettore-aria\n",
    "Raw = 0.5 # Resistivita' termica aria-muro\n",
    "Rwo = 3.0 # Resistivita' termica muro-esterno\n",
    "Tc = 23 # Temperatura del convettore\n",
    "To = 15 # Temperatura esterna\n",
    "\n",
    "Ta0 = 19.5 # Temperatura iniziale dell'aria\n",
    "Tw0 = 19.5 # Temperatura iniziale delle pareti"
   ]
  },
  {
   "cell_type": "markdown",
   "metadata": {
    "slideshow": {
     "slide_type": "subslide"
    }
   },
   "source": [
    "## Esercizio: Riscaldamento di una Stanza\n",
    "\n",
    "**Nel modulo `sol.heating` si definisca una classe:**\n",
    "\n",
    "```python\n",
    "class Dstate:\n",
    "    def __init__(self, Ca, Cw, Rca, Raw, Rwo, Tc, To):\n",
    "        ...\n",
    "\n",
    "    def __call__(self, X, t):\n",
    "        ...\n",
    "```\n",
    "\n",
    "...Che rappresenti la funzione che definisce l'ODE\n",
    "\n",
    "* Il metodo `__call__` deve calcolare le derivate\n",
    "* ...E restiuirle sotto forma di `numpy.array`\n",
    "\n",
    "Nella cella seguente:\n",
    "\n",
    "* Si utilizzi la classe per calcolare il gradiente\n",
    "* ...Per lo stato iniziale $(T_{a,0}, T_{w,0}) = (19.5, 19.5)$ ed il tempo iniziale $t_0 = 0$"
   ]
  },
  {
   "cell_type": "code",
   "execution_count": 3,
   "metadata": {},
   "outputs": [],
   "source": [
    "import numpy as np\n",
    "\n",
    "X0 = np.array([Ta0, Tw0])\n",
    "t0 = 0"
   ]
  },
  {
   "cell_type": "markdown",
   "metadata": {
    "slideshow": {
     "slide_type": "subslide"
    }
   },
   "source": [
    "## Esercizio: Riscaldamento di una Stanza\n",
    "\n",
    "**Nel modulo `sol.heating` si definisca una funzione:**\n",
    "\n",
    "```python\n",
    "def simulate(f, X0, t)\n",
    "```\n",
    "\n",
    "...Che si simuli il comportamento della stanza\n",
    "\n",
    "* La funzione deve restituire una tupla contenente (nell'ordine):\n",
    "  - La matrice con gli stati visitati\n",
    "  - Il vettore con i valori del tempo\n",
    "* La funzione deve anche disegnare un grafico utilizzando `base.util.plot_state_evolution`\n",
    "\n",
    "**Si utilizzi la funzione per determinare il comportamento della stanza**\n",
    "\n",
    "* Per un periodo di 2 ore\n",
    "* ...A partire dallo stato iniziale $(T_a, T_w) = (19.5, 19.5)$"
   ]
  },
  {
   "cell_type": "code",
   "execution_count": 4,
   "metadata": {},
   "outputs": [],
   "source": [
    "X0 = np.array([Ta0, Tw0])\n",
    "t = np.linspace(0, 3600 * 2, 3600 * 2)"
   ]
  },
  {
   "cell_type": "markdown",
   "metadata": {
    "slideshow": {
     "slide_type": "subslide"
    }
   },
   "source": [
    "## Esercizio: Riscaldamento di una Stanza\n",
    "\n",
    "**Nel modulo `sol.heating` si definisca una funzione:**\n",
    "\n",
    "```python\n",
    "def final_temp(X, t)\n",
    "```\n",
    "\n",
    "* Che restituisca in una tupla (nell'ordine)\n",
    "* ...La temperatura finale dell'aria e dei muri\n",
    "\n",
    "Si stampino a video i valori"
   ]
  },
  {
   "cell_type": "code",
   "execution_count": null,
   "metadata": {},
   "outputs": [],
   "source": []
  },
  {
   "cell_type": "markdown",
   "metadata": {
    "slideshow": {
     "slide_type": "subslide"
    }
   },
   "source": [
    "## Esercizio: Riscaldamento di una Stanza\n",
    "\n",
    "**Nel modulo `sol.heating` si definisca una funzione:**\n",
    "\n",
    "```python\n",
    "def temp_in_1h(X, t)\n",
    "```\n",
    "\n",
    "* Che restituisca in una tupla (nell'ordine)\n",
    "* ...La temperatura raggiunta dell'aria e dei muri in un'ora\n",
    "\n",
    "Si stampino a video i valori"
   ]
  },
  {
   "cell_type": "code",
   "execution_count": null,
   "metadata": {},
   "outputs": [],
   "source": []
  },
  {
   "cell_type": "markdown",
   "metadata": {
    "slideshow": {
     "slide_type": "subslide"
    }
   },
   "source": [
    "## Esercizio: Riscaldamento di una Stanza\n",
    "\n",
    "**Nel modulo `sol.heating` si definisca una funzione:**\n",
    "\n",
    "```python\n",
    "def time_to_20C(X, t)\n",
    "```\n",
    "\n",
    "* Che restituisca il tempo necessario\n",
    "* ...Perché la temperatura dell'aria raggiunga i 20 gradi\n",
    "\n",
    "Si stampi a video il valore"
   ]
  },
  {
   "cell_type": "code",
   "execution_count": null,
   "metadata": {},
   "outputs": [],
   "source": []
  }
 ],
 "metadata": {
  "celltoolbar": "Slideshow",
  "kernelspec": {
   "display_name": "Python 3 (ipykernel)",
   "language": "python",
   "name": "python3"
  },
  "language_info": {
   "codemirror_mode": {
    "name": "ipython",
    "version": 3
   },
   "file_extension": ".py",
   "mimetype": "text/x-python",
   "name": "python",
   "nbconvert_exporter": "python",
   "pygments_lexer": "ipython3",
   "version": "3.11.11"
  },
  "rise": {
   "center": false,
   "enable_chalkboard": true,
   "transition": "fade"
  }
 },
 "nbformat": 4,
 "nbformat_minor": 4
}
