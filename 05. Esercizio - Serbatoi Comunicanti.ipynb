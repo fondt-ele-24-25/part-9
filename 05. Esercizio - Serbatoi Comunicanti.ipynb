{
 "cells": [
  {
   "cell_type": "code",
   "execution_count": 1,
   "metadata": {},
   "outputs": [],
   "source": [
    "%load_ext autoreload\n",
    "%autoreload 2"
   ]
  },
  {
   "cell_type": "markdown",
   "metadata": {
    "slideshow": {
     "slide_type": "subslide"
    }
   },
   "source": [
    "## Esercizio: Serbatoi Comunicanti\n",
    "\n",
    "**Tre serbatoi comunicano attraverso condotte**\n",
    "\n",
    "<center>\n",
    "<img src=\"assets/tubes3_a.png\" width=50%/>\n",
    "</center>"
   ]
  },
  {
   "cell_type": "markdown",
   "metadata": {
    "slideshow": {
     "slide_type": "subslide"
    }
   },
   "source": [
    "## Esercizio: Serbatoi Comunicanti\n",
    "\n",
    "**Tre serbatoi comunicano attraverso condotte**\n",
    "\n",
    "<center>\n",
    "<img src=\"assets/tubes3.png\" width=50%/>\n",
    "</center>\n",
    "\n",
    "* Il problema può essere modellato con un circuito RC\n",
    "* La tensioni corrispondono a valori di pressione (i.e. $P_1$, $P_2$, $P_3$)\n",
    "* Le correndi a flussi di acqua (i.e. $q_{12}$, $q_{23}$, $q_{31}$)\n",
    "* Il modello è approssimativo, ma a noi basterà\n"
   ]
  },
  {
   "cell_type": "markdown",
   "metadata": {
    "slideshow": {
     "slide_type": "subslide"
    }
   },
   "source": [
    "## Esercizio: Serbatoi Comunicanti\n",
    "\n",
    "**Il sistema è descritto dall'ODE:**\n",
    "\n",
    "$$\n",
    "\\left(\\begin{array}{c}\n",
    "\\dot{P}_1 \\\\\n",
    "\\dot{P}_2 \\\\\n",
    "\\dot{P}_3\n",
    "\\end{array}\\right)\n",
    "=\n",
    "\\left(\\begin{array}{c}\n",
    "\\frac{1}{C_1} (q_{31} - q_{12}) \\\\\n",
    "\\frac{1}{C_2} (q_{12} - q_{23}) \\\\\n",
    "\\frac{1}{C_3} (q_{23} - q_{31})\n",
    "\\end{array}\\right)\n",
    "$$\n",
    "\n",
    "Con:\n",
    "\n",
    "$$\n",
    "\\begin{align}\n",
    "& q_{12} = \\frac{1}{R_{12}} (P_1 - P_2) && q_{23} = \\frac{1}{R_{23}} (P_2 - P_3) \\\\\n",
    "& q_{31} = \\frac{1}{R_{31}} (P_3 - P_1)\n",
    "\\end{align}\n",
    "$$\n"
   ]
  },
  {
   "cell_type": "markdown",
   "metadata": {
    "slideshow": {
     "slide_type": "subslide"
    }
   },
   "source": [
    "## Esercizio: Serbatoi Comunicanti\n",
    "\n",
    "**Prima di tutto, procediamo a caricare i dati del problema**\n",
    "\n",
    "Potete farlo usando la cella seguente:"
   ]
  },
  {
   "cell_type": "code",
   "execution_count": 2,
   "metadata": {},
   "outputs": [],
   "source": [
    "# Dati intermedi\n",
    "g = 9.81\n",
    "S1 = 1 # Superfici\n",
    "S2 = 1\n",
    "S3 = 1\n",
    "h1 = 3 # Livelli dei serbatoi\n",
    "h2 = 2\n",
    "h3 = 1\n",
    "qmax12 = 0.0002 # Portata per unita' di pressione\n",
    "qmax23 = 0.0007\n",
    "qmax31 = 0.0008\n",
    "\n",
    "# Capacita'\n",
    "C1 = S1/g\n",
    "C2 = S2/g\n",
    "C3 = S3/g\n",
    "\n",
    "# Resistenze\n",
    "R12 = 1/qmax12\n",
    "R23 = 1/qmax23\n",
    "R31 = 1/qmax31\n",
    "\n",
    "# Pressioni iniziali\n",
    "P1_0 = h1 * g\n",
    "P2_0 = h2 * g\n",
    "P3_0 = h3 * g"
   ]
  },
  {
   "cell_type": "markdown",
   "metadata": {
    "slideshow": {
     "slide_type": "subslide"
    }
   },
   "source": [
    "## Esercizio: Serbatoi Comunicanti\n",
    "\n",
    "**Nel modulo `sol.tubes` si definisca una classe:**\n",
    "\n",
    "```python\n",
    "class Dstate:\n",
    "    def __init__(self, C1, C2, C3, R12, R23, R31):\n",
    "        ...\n",
    "\n",
    "    def __call__(self, X, t):\n",
    "        ...\n",
    "```\n",
    "\n",
    "...Che rappresenti la funzione che definisce l'ODE\n",
    "\n",
    "* Il metodo `__call__` deve calcolare le derivate\n",
    "* ...E restiuirle sotto forma di `numpy.array`\n",
    "\n",
    "Nella cella seguente:\n",
    "\n",
    "* Si utilizzi la classe per calcolare il gradiente\n",
    "* ...Per lo stato fornito nella cella ed il tempo $t_0 = 0$"
   ]
  },
  {
   "cell_type": "code",
   "execution_count": 3,
   "metadata": {},
   "outputs": [],
   "source": [
    "import numpy as np\n",
    "\n",
    "X0 = np.array([P1_0, P2_0, P3_0])\n",
    "t0 = 0"
   ]
  },
  {
   "cell_type": "markdown",
   "metadata": {
    "slideshow": {
     "slide_type": "subslide"
    }
   },
   "source": [
    "## Esercizio: Serbatoi Comunicanti\n",
    "\n",
    "**Nel modulo `sol.tubes` si definisca una funzione:**\n",
    "\n",
    "```python\n",
    "def simulate(f, X0, t)\n",
    "```\n",
    "\n",
    "...Che si simuli il comportamento dei serbatoi:\n",
    "\n",
    "* La funzione deve restituire una tupla contenente (nell'ordine):\n",
    "  - La matrice con gli stati visitati\n",
    "  - Il vettore con i valori del tempo\n",
    "* La funzione deve anche disegnare un grafico utilizzando `base.util.plot_state_evolution`\n",
    "\n",
    "**Si utilizzi la funzione per determinare il comportamento dei serbatoi**\n",
    "\n",
    "* Per un periodo di 600 secondi\n",
    "* ...A partire dallo stato iniziale indicato nella cella"
   ]
  },
  {
   "cell_type": "code",
   "execution_count": 4,
   "metadata": {},
   "outputs": [],
   "source": [
    "X0 = np.array([P1_0, P2_0, P3_0])\n",
    "t = np.linspace(0, 600, 600)"
   ]
  },
  {
   "cell_type": "markdown",
   "metadata": {
    "slideshow": {
     "slide_type": "subslide"
    }
   },
   "source": [
    "## Esercizio: Serbatoi Comunicanti\n",
    "\n",
    "**Nel modulo `sol.tubes` si definisca una funzione:**\n",
    "\n",
    "```python\n",
    "def final_P1(X, t)\n",
    "```\n",
    "\n",
    "* Che restituisca il valore finale della pressione $P_1$\n",
    "\n",
    "Si stampi a video il risultato"
   ]
  },
  {
   "cell_type": "code",
   "execution_count": null,
   "metadata": {},
   "outputs": [],
   "source": []
  },
  {
   "cell_type": "markdown",
   "metadata": {
    "slideshow": {
     "slide_type": "subslide"
    }
   },
   "source": [
    "## Esercizio: Serbatoi Comunicanti\n",
    "\n",
    "**Nel modulo `sol.tubes` si definisca una funzione:**\n",
    "\n",
    "```python\n",
    "def times_P2_eq_P3(X, t)\n",
    "```\n",
    "\n",
    "* Che restituisca come array\n",
    "* ...I valori di tempo per cui $|P_2-P_3| < 1e-2$\n",
    "\n",
    "Si stampi a video il risultato"
   ]
  },
  {
   "cell_type": "code",
   "execution_count": null,
   "metadata": {},
   "outputs": [],
   "source": []
  }
 ],
 "metadata": {
  "celltoolbar": "Slideshow",
  "kernelspec": {
   "display_name": "Python 3 (ipykernel)",
   "language": "python",
   "name": "python3"
  },
  "language_info": {
   "codemirror_mode": {
    "name": "ipython",
    "version": 3
   },
   "file_extension": ".py",
   "mimetype": "text/x-python",
   "name": "python",
   "nbconvert_exporter": "python",
   "pygments_lexer": "ipython3",
   "version": "3.11.11"
  },
  "rise": {
   "center": false,
   "enable_chalkboard": true,
   "transition": "fade"
  }
 },
 "nbformat": 4,
 "nbformat_minor": 4
}
